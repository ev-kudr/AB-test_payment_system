{
 "cells": [
  {
   "cell_type": "code",
   "execution_count": 1,
   "metadata": {},
   "outputs": [],
   "source": [
    "import numpy as np\n",
    "import pandas as pd\n",
    "import scipy.stats as ss\n",
    "\n",
    "import requests\n",
    "from urllib.parse import urlencode\n",
    "import json\n",
    "\n",
    "import seaborn as sns\n",
    "import matplotlib.pyplot as plt\n",
    "\n",
    "sns.set(rc={'figure.figsize':(12,6)}, style=\"whitegrid\")"
   ]
  },
  {
   "cell_type": "markdown",
   "metadata": {},
   "source": [
    "# Цель исследования\n",
    "При помощи A/B–тестирования оценить, выгодно ли внедрять новую механику оплаты услуг на сайте.  \n",
    "Во время исследования участники были отнесены к целевой (новая механика оплаты) или контрольной (исходная механика оплаты) группам.\n",
    "\n",
    "### Задачи исследования:\n",
    "- Определить метрики, которые будут рассмотрены в ходе анализа, и объяснить выбор метрик.\n",
    "- Выявить различия в показателях (если они имеются) и объяснить их.\n",
    "- Определить, являются ли различия статистически значимыми.\n",
    "- Определить, выгодно ли запускать новую механику на всех пользователей.\n",
    "- Задать функции, которые позволят автоматически подгружать дополнительную информацию о пользователях, переданную в файле `groups_add.csv` и визуализировать результаты эксперимента.\n",
    "\n",
    "### Характеристика отчета:\n",
    "\n",
    "- Аналитическое исследование выполнено на языке программирования Python.  \n",
    "- Файл представляет собой законченный отчёт с выводами, сделанными в ходе исследования."
   ]
  },
  {
   "cell_type": "code",
   "execution_count": 2,
   "metadata": {},
   "outputs": [
    {
     "data": {
      "text/html": [
       "<div>\n",
       "<style scoped>\n",
       "    .dataframe tbody tr th:only-of-type {\n",
       "        vertical-align: middle;\n",
       "    }\n",
       "\n",
       "    .dataframe tbody tr th {\n",
       "        vertical-align: top;\n",
       "    }\n",
       "\n",
       "    .dataframe thead th {\n",
       "        text-align: right;\n",
       "    }\n",
       "</style>\n",
       "<table border=\"1\" class=\"dataframe\">\n",
       "  <thead>\n",
       "    <tr style=\"text-align: right;\">\n",
       "      <th></th>\n",
       "      <th>student_id</th>\n",
       "    </tr>\n",
       "  </thead>\n",
       "  <tbody>\n",
       "    <tr>\n",
       "      <th>0</th>\n",
       "      <td>581585</td>\n",
       "    </tr>\n",
       "    <tr>\n",
       "      <th>1</th>\n",
       "      <td>5723133</td>\n",
       "    </tr>\n",
       "  </tbody>\n",
       "</table>\n",
       "</div>"
      ],
      "text/plain": [
       "   student_id\n",
       "0      581585\n",
       "1     5723133"
      ]
     },
     "execution_count": 2,
     "metadata": {},
     "output_type": "execute_result"
    }
   ],
   "source": [
    "# файл с информацией о пользователях, которые зашли на платформу в дни проведения эксперимента. \n",
    "active_st = pd.read_csv('./Проект_2_active_studs.csv')\n",
    "active_st.head(2)"
   ]
  },
  {
   "cell_type": "code",
   "execution_count": 3,
   "metadata": {},
   "outputs": [
    {
     "data": {
      "text/html": [
       "<div>\n",
       "<style scoped>\n",
       "    .dataframe tbody tr th:only-of-type {\n",
       "        vertical-align: middle;\n",
       "    }\n",
       "\n",
       "    .dataframe tbody tr th {\n",
       "        vertical-align: top;\n",
       "    }\n",
       "\n",
       "    .dataframe thead th {\n",
       "        text-align: right;\n",
       "    }\n",
       "</style>\n",
       "<table border=\"1\" class=\"dataframe\">\n",
       "  <thead>\n",
       "    <tr style=\"text-align: right;\">\n",
       "      <th></th>\n",
       "      <th>student_id</th>\n",
       "      <th>rev</th>\n",
       "    </tr>\n",
       "  </thead>\n",
       "  <tbody>\n",
       "    <tr>\n",
       "      <th>0</th>\n",
       "      <td>1627</td>\n",
       "      <td>990.0</td>\n",
       "    </tr>\n",
       "    <tr>\n",
       "      <th>1</th>\n",
       "      <td>3185</td>\n",
       "      <td>690.0</td>\n",
       "    </tr>\n",
       "  </tbody>\n",
       "</table>\n",
       "</div>"
      ],
      "text/plain": [
       "   student_id    rev\n",
       "0        1627  990.0\n",
       "1        3185  690.0"
      ]
     },
     "execution_count": 3,
     "metadata": {},
     "output_type": "execute_result"
    }
   ],
   "source": [
    "# файл с информацией об оплатах пользователей в дни проведения эксперимента. \n",
    "checks = pd.read_csv('./Проект_2_checks.csv', sep=';')\n",
    "checks.head(2)"
   ]
  },
  {
   "cell_type": "code",
   "execution_count": 4,
   "metadata": {},
   "outputs": [
    {
     "data": {
      "text/html": [
       "<div>\n",
       "<style scoped>\n",
       "    .dataframe tbody tr th:only-of-type {\n",
       "        vertical-align: middle;\n",
       "    }\n",
       "\n",
       "    .dataframe tbody tr th {\n",
       "        vertical-align: top;\n",
       "    }\n",
       "\n",
       "    .dataframe thead th {\n",
       "        text-align: right;\n",
       "    }\n",
       "</style>\n",
       "<table border=\"1\" class=\"dataframe\">\n",
       "  <thead>\n",
       "    <tr style=\"text-align: right;\">\n",
       "      <th></th>\n",
       "      <th>id</th>\n",
       "      <th>grp</th>\n",
       "    </tr>\n",
       "  </thead>\n",
       "  <tbody>\n",
       "    <tr>\n",
       "      <th>0</th>\n",
       "      <td>1489</td>\n",
       "      <td>B</td>\n",
       "    </tr>\n",
       "    <tr>\n",
       "      <th>1</th>\n",
       "      <td>1627</td>\n",
       "      <td>A</td>\n",
       "    </tr>\n",
       "  </tbody>\n",
       "</table>\n",
       "</div>"
      ],
      "text/plain": [
       "     id grp\n",
       "0  1489   B\n",
       "1  1627   A"
      ]
     },
     "execution_count": 4,
     "metadata": {},
     "output_type": "execute_result"
    }
   ],
   "source": [
    "# файл с информацией о принадлежности пользователя к контрольной или экспериментальной группе (А – контроль,B – целевая группа) \n",
    "groups = pd.read_csv('./Проект_2_groups.csv', sep=';')\n",
    "groups.head(2)"
   ]
  },
  {
   "cell_type": "markdown",
   "metadata": {},
   "source": [
    "## Предварительный анализ (EDA)\n",
    "Изучим имеющиеся данные:\n",
    "- Оценим число уникальных пользователей в каждой из групп\n",
    "- Оценим число наблюдений (оплат и посещений) в каждой из групп и число наблюдений для уникальных пользователей\n",
    "- Изучим характер распределения в датасете с оплатами"
   ]
  },
  {
   "cell_type": "code",
   "execution_count": 5,
   "metadata": {},
   "outputs": [
    {
     "name": "stdout",
     "output_type": "stream",
     "text": [
      "Число строк в файле groups:  74484\n",
      "Число уникальных пользователей:  74484\n"
     ]
    }
   ],
   "source": [
    "print(\"Число строк в файле groups: \", groups.shape[0])\n",
    "print(\"Число уникальных пользователей: \", groups.id.nunique())"
   ]
  },
  {
   "cell_type": "code",
   "execution_count": 6,
   "metadata": {},
   "outputs": [
    {
     "data": {
      "text/plain": [
       "B    59813\n",
       "A    14671\n",
       "Name: grp, dtype: int64"
      ]
     },
     "execution_count": 6,
     "metadata": {},
     "output_type": "execute_result"
    }
   ],
   "source": [
    "groups.grp.value_counts() # число id в каждой из групп (в целевой группе больше)"
   ]
  },
  {
   "cell_type": "markdown",
   "metadata": {},
   "source": [
    "Рассмотрим файлы с информацией о посещениях и об оплатах"
   ]
  },
  {
   "cell_type": "code",
   "execution_count": 7,
   "metadata": {},
   "outputs": [
    {
     "name": "stdout",
     "output_type": "stream",
     "text": [
      "Число строк в файле checks:  541\n",
      "Число уникальных пользователей:  541\n"
     ]
    }
   ],
   "source": [
    "print(\"Число строк в файле checks: \", checks.shape[0])\n",
    "print(\"Число уникальных пользователей: \", checks.student_id.nunique())"
   ]
  },
  {
   "cell_type": "code",
   "execution_count": 8,
   "metadata": {},
   "outputs": [
    {
     "name": "stdout",
     "output_type": "stream",
     "text": [
      "Число строк в файле active_st:  8341\n",
      "Число уникальных пользователей:  8341\n"
     ]
    }
   ],
   "source": [
    "print(\"Число строк в файле active_st: \", active_st.shape[0])\n",
    "print(\"Число уникальных пользователей: \", active_st.student_id.nunique())"
   ]
  },
  {
   "cell_type": "markdown",
   "metadata": {},
   "source": [
    "Изучим характер распределения размера выручки на пользователя и основные описательные статистики этого распределния"
   ]
  },
  {
   "cell_type": "code",
   "execution_count": 9,
   "metadata": {},
   "outputs": [
    {
     "data": {
      "text/plain": [
       "count     541.000000\n",
       "mean     1059.752317\n",
       "std       762.712359\n",
       "min       199.000000\n",
       "25%       290.000000\n",
       "50%       840.000000\n",
       "75%      1900.000000\n",
       "max      4650.000000\n",
       "Name: rev, dtype: float64"
      ]
     },
     "execution_count": 9,
     "metadata": {},
     "output_type": "execute_result"
    }
   ],
   "source": [
    "checks.rev.describe()"
   ]
  },
  {
   "cell_type": "code",
   "execution_count": 10,
   "metadata": {},
   "outputs": [
    {
     "data": {
      "text/plain": [
       "<Axes: xlabel='rev', ylabel='Count'>"
      ]
     },
     "execution_count": 10,
     "metadata": {},
     "output_type": "execute_result"
    },
    {
     "data": {
      "image/png": "[encoded data removed]",
      "text/plain": [
       "<Figure size 1200x600 with 1 Axes>"
      ]
     },
     "metadata": {},
     "output_type": "display_data"
    }
   ],
   "source": [
    "sns.histplot(checks.rev) #видим, что распределние бимодальное - необходимо изучить, с чем это связано"
   ]
  },
  {
   "cell_type": "markdown",
   "metadata": {},
   "source": [
    "#### Объединим дф с информацей о разбиении на группы, посещениях и оплатах - составим общий дф для оценки результатов эксперимента.  \n",
    "Вначале объединяем дф с информацией о разбиении на группы и дф с активными пользователями в период проведения эксперимента: здесь используем inner join, т.к. нам для анализа понадобится информация только о пользователях, которые были активны в момент эксперимента и которые отнесены к какой-либо из двух групп. Также не все активные во время эксперимента пользователи были отнесены к какой-либо из двух групп (мы знаем, что нам должны прислать дополнительный файл с информацией о разбиении на группы части пользователей).  \n",
    "  \n",
    "Затем к полученному дф присоединяем информацию об оплатах - в этом случае используем left join, т.к. не все активные во время эксперимента пользователи могли совершить оплату. Удаляем колонку, дублирующую информацию об id."
   ]
  },
  {
   "cell_type": "code",
   "execution_count": 11,
   "metadata": {},
   "outputs": [
    {
     "data": {
      "text/html": [
       "<div>\n",
       "<style scoped>\n",
       "    .dataframe tbody tr th:only-of-type {\n",
       "        vertical-align: middle;\n",
       "    }\n",
       "\n",
       "    .dataframe tbody tr th {\n",
       "        vertical-align: top;\n",
       "    }\n",
       "\n",
       "    .dataframe thead th {\n",
       "        text-align: right;\n",
       "    }\n",
       "</style>\n",
       "<table border=\"1\" class=\"dataframe\">\n",
       "  <thead>\n",
       "    <tr style=\"text-align: right;\">\n",
       "      <th></th>\n",
       "      <th>grp</th>\n",
       "      <th>student_id</th>\n",
       "      <th>rev</th>\n",
       "    </tr>\n",
       "  </thead>\n",
       "  <tbody>\n",
       "    <tr>\n",
       "      <th>0</th>\n",
       "      <td>A</td>\n",
       "      <td>1627</td>\n",
       "      <td>990.0</td>\n",
       "    </tr>\n",
       "    <tr>\n",
       "      <th>1</th>\n",
       "      <td>B</td>\n",
       "      <td>2085</td>\n",
       "      <td>NaN</td>\n",
       "    </tr>\n",
       "  </tbody>\n",
       "</table>\n",
       "</div>"
      ],
      "text/plain": [
       "  grp  student_id    rev\n",
       "0   A        1627  990.0\n",
       "1   B        2085    NaN"
      ]
     },
     "execution_count": 11,
     "metadata": {},
     "output_type": "execute_result"
    }
   ],
   "source": [
    "groups_active = groups.merge(active_st, how = 'inner', left_on = 'id', right_on = 'student_id')\\\n",
    "                            .merge(checks, how = 'left', on = 'student_id')\\\n",
    "                            .drop('id', axis=1)\n",
    "groups_active.head(2)"
   ]
  },
  {
   "cell_type": "code",
   "execution_count": 12,
   "metadata": {},
   "outputs": [
    {
     "name": "stdout",
     "output_type": "stream",
     "text": [
      "Проводим A/B тест на основании информации о  8328  пользователях\n",
      "Разбивка по группам:\n",
      "А -  1535 пользователей\n",
      "B -  6793 пользователей\n"
     ]
    }
   ],
   "source": [
    "print(\"Проводим A/B тест на основании информации о \", groups_active.student_id.nunique(), \" пользователях\")\n",
    "print(\"Разбивка по группам:\")\n",
    "print(\"А - \", groups_active.grp.value_counts().A, \"пользователей\")\n",
    "print(\"B - \", groups_active.grp.value_counts().B, \"пользователей\")"
   ]
  },
  {
   "cell_type": "markdown",
   "metadata": {},
   "source": [
    "Мы видим, что в тестовой группе в несколько раз больше пользователей, чем в контрольной. Возможно, система сплитования работает некорректно"
   ]
  },
  {
   "cell_type": "code",
   "execution_count": 13,
   "metadata": {},
   "outputs": [
    {
     "data": {
      "text/html": [
       "<div>\n",
       "<style scoped>\n",
       "    .dataframe tbody tr th:only-of-type {\n",
       "        vertical-align: middle;\n",
       "    }\n",
       "\n",
       "    .dataframe tbody tr th {\n",
       "        vertical-align: top;\n",
       "    }\n",
       "\n",
       "    .dataframe thead th {\n",
       "        text-align: right;\n",
       "    }\n",
       "</style>\n",
       "<table border=\"1\" class=\"dataframe\">\n",
       "  <thead>\n",
       "    <tr style=\"text-align: right;\">\n",
       "      <th></th>\n",
       "      <th>grp</th>\n",
       "      <th>student_id</th>\n",
       "      <th>rev</th>\n",
       "      <th>purchases</th>\n",
       "    </tr>\n",
       "  </thead>\n",
       "  <tbody>\n",
       "    <tr>\n",
       "      <th>0</th>\n",
       "      <td>A</td>\n",
       "      <td>1627</td>\n",
       "      <td>990.0</td>\n",
       "      <td>purchase</td>\n",
       "    </tr>\n",
       "    <tr>\n",
       "      <th>1</th>\n",
       "      <td>B</td>\n",
       "      <td>2085</td>\n",
       "      <td>NaN</td>\n",
       "      <td>no_purchase</td>\n",
       "    </tr>\n",
       "  </tbody>\n",
       "</table>\n",
       "</div>"
      ],
      "text/plain": [
       "  grp  student_id    rev    purchases\n",
       "0   A        1627  990.0     purchase\n",
       "1   B        2085    NaN  no_purchase"
      ]
     },
     "execution_count": 13,
     "metadata": {},
     "output_type": "execute_result"
    }
   ],
   "source": [
    "# добавляем колонку, где указано, совершил ли пользователь покупку\n",
    "groups_active['purchases'] = groups_active.rev.apply(lambda x: 'no_purchase' if pd.isna(x) else 'purchase')\n",
    "groups_active.head(2)"
   ]
  },
  {
   "cell_type": "markdown",
   "metadata": {},
   "source": [
    "## Метрика 1: Конверсия в покупку\n",
    "\n",
    "Изменение механизма оплаты могло привести к увеличению числа платящих пользователей, т.е. к увеличению конверсии. Оценим соотношение активных и платящих пользователей в тестовой и контрольной группах и посчитаем показатель конверсии"
   ]
  },
  {
   "cell_type": "code",
   "execution_count": 14,
   "metadata": {},
   "outputs": [
    {
     "data": {
      "text/html": [
       "<div>\n",
       "<style scoped>\n",
       "    .dataframe tbody tr th:only-of-type {\n",
       "        vertical-align: middle;\n",
       "    }\n",
       "\n",
       "    .dataframe tbody tr th {\n",
       "        vertical-align: top;\n",
       "    }\n",
       "\n",
       "    .dataframe thead th {\n",
       "        text-align: right;\n",
       "    }\n",
       "</style>\n",
       "<table border=\"1\" class=\"dataframe\">\n",
       "  <thead>\n",
       "    <tr style=\"text-align: right;\">\n",
       "      <th>purchases</th>\n",
       "      <th>no_purchase</th>\n",
       "      <th>purchase</th>\n",
       "    </tr>\n",
       "    <tr>\n",
       "      <th>grp</th>\n",
       "      <th></th>\n",
       "      <th></th>\n",
       "    </tr>\n",
       "  </thead>\n",
       "  <tbody>\n",
       "    <tr>\n",
       "      <th>A</th>\n",
       "      <td>1457</td>\n",
       "      <td>78</td>\n",
       "    </tr>\n",
       "    <tr>\n",
       "      <th>B</th>\n",
       "      <td>6480</td>\n",
       "      <td>313</td>\n",
       "    </tr>\n",
       "  </tbody>\n",
       "</table>\n",
       "</div>"
      ],
      "text/plain": [
       "purchases  no_purchase  purchase\n",
       "grp                             \n",
       "A                 1457        78\n",
       "B                 6480       313"
      ]
     },
     "execution_count": 14,
     "metadata": {},
     "output_type": "execute_result"
    }
   ],
   "source": [
    "pd.crosstab(groups_active.grp, groups_active.purchases)"
   ]
  },
  {
   "cell_type": "code",
   "execution_count": 15,
   "metadata": {},
   "outputs": [
    {
     "name": "stdout",
     "output_type": "stream",
     "text": [
      "Конверсия в контрольной группе:  0.051\n",
      "Конверсия в тестовой группе:  0.046\n"
     ]
    }
   ],
   "source": [
    "print(\"Конверсия в контрольной группе: \", \\\n",
    "      round(groups_active.query('grp == \"A\" and purchases == \"purchase\"').student_id.nunique()/\\\n",
    "      groups_active.query('grp == \"A\"').student_id.nunique(), 3))\n",
    "\n",
    "print(\"Конверсия в тестовой группе: \", \\\n",
    "round(groups_active.query('grp == \"B\" and purchases == \"purchase\"').student_id.nunique()/\\\n",
    "      groups_active.query('grp == \"B\"').student_id.nunique(), 3))"
   ]
  },
  {
   "cell_type": "markdown",
   "metadata": {},
   "source": [
    "Необходимо проверить гипотезу при помощи статистического теста. Поскольку мы работаем с категориальными переменными - для проверки гипотезы о том, что __конверсия не изменилась (Н0)__ используем критерий хи-квадрат. __Н1 - конверсия в группах статистически значимо различается__"
   ]
  },
  {
   "cell_type": "code",
   "execution_count": 16,
   "metadata": {},
   "outputs": [],
   "source": [
    "stat, p, dof, expected = ss.chi2_contingency(pd.crosstab(groups_active.grp, groups_active.purchases))"
   ]
  },
  {
   "cell_type": "code",
   "execution_count": 17,
   "metadata": {},
   "outputs": [
    {
     "data": {
      "text/plain": [
       "(0.526607176998989, 0.46803677583199144)"
      ]
     },
     "execution_count": 17,
     "metadata": {},
     "output_type": "execute_result"
    }
   ],
   "source": [
    "stat, p"
   ]
  },
  {
   "cell_type": "markdown",
   "metadata": {},
   "source": [
    "Мы получили p-value сильно больше 0,05 - это говорит о том, что мы __не можем отклонить нулевую гиптезу (Н0)__ о том, что конверсия в тестовой и контрольной группах не различается. Различия значений конверсии, полученные в результате эксперимента с изменением механики оплаты, считаем несущественными. __Н1 отклоняем__"
   ]
  },
  {
   "cell_type": "markdown",
   "metadata": {},
   "source": [
    "## Метрики 2 и 3: ARPU - средняя выручка на пользователя и ARPPU - выручка на платящего пользователя\n",
    "Изменение механики системы оплаты могло привести к изменению средней выручки на пользователя. Если мы наблюдаем увеличение ARPU или ARPPU в тестовой группе - значит имеет смысл внедрить новую механику. Оценим эти метрики и проверим, наблюдаются ли статистически значимые различия.  \n",
    "  \n",
    "Изучим распределение выручки на пользователя в двух группах. Для этого построим график.  \n",
    "  \n",
    "На графике явно заметен пик в области значения выручки 2000, который наблюдается только в тестовой группе и отсутствует в контрольной. Если бы я могла обсудить этот момент с командой, которая прооводит эксперимет - я бы попыталась узнать, связан ли этот пик как раз с изменением механики оплаты (например, могли внедрить автоматическое списание при продлении подписки - таким образом в тестовой группе резко увеличилось число пользователей, которые во время проведения эксперимента внесли одинаковую сумму денег для продления подписки). Возможно, на результаты эксперимента по оценке эффективности новой механики оплаты оказало влияние какое-то другое событие, с этим экспериментом не связанное - возможно промо какого-либо товара или что-то еще. В таком случае, эти выбросы следовало бы исключить или проводить эксперимент больше, чтобы нивелировать это воздействие.  \n",
    "__Будем считать выброс результатом нашего эксперимента, т.е. не будем исключать эти значения, а оценим их влиение на ARPU и ARPPU__"
   ]
  },
  {
   "cell_type": "code",
   "execution_count": 18,
   "metadata": {},
   "outputs": [
    {
     "data": {
      "text/plain": [
       "<Axes: xlabel='rev', ylabel='Count'>"
      ]
     },
     "execution_count": 18,
     "metadata": {},
     "output_type": "execute_result"
    },
    {
     "data": {
      "image/png": "[encoded data removed]",
      "text/plain": [
       "<Figure size 1200x600 with 1 Axes>"
      ]
     },
     "metadata": {},
     "output_type": "display_data"
    }
   ],
   "source": [
    "sns.histplot(data=groups_active, x=\"rev\", hue=\"grp\")"
   ]
  },
  {
   "cell_type": "code",
   "execution_count": 19,
   "metadata": {},
   "outputs": [],
   "source": [
    "groups_active['rev'] = groups_active.rev.fillna(0) # заменим пропущенные значения в колонке с выручкой на 0"
   ]
  },
  {
   "cell_type": "code",
   "execution_count": 20,
   "metadata": {},
   "outputs": [
    {
     "name": "stdout",
     "output_type": "stream",
     "text": [
      "ARPU в контрольной группе:  47.44\n",
      "ARPU в тестовой группе:  57.865\n"
     ]
    }
   ],
   "source": [
    "print(\"ARPU в контрольной группе: \",round(groups_active.query('grp == \"A\"').rev.mean(), 3))\n",
    "print(\"ARPU в тестовой группе: \",round(groups_active.query('grp == \"B\"').rev.mean(), 3))"
   ]
  },
  {
   "cell_type": "code",
   "execution_count": 21,
   "metadata": {},
   "outputs": [
    {
     "name": "stdout",
     "output_type": "stream",
     "text": [
      "ARPPU в контрольной группе:  585.0\n",
      "ARPPU в тестовой группе:  1140.0\n"
     ]
    }
   ],
   "source": [
    "print(\"ARPPU в контрольной группе: \",round(groups_active.query('grp == \"A\" and purchases == \"purchase\"').rev.median(), 3))\n",
    "print(\"ARPPU в тестовой группе: \",round(groups_active.query('grp == \"B\" and purchases == \"purchase\"').rev.median(), 3))"
   ]
  },
  {
   "cell_type": "markdown",
   "metadata": {},
   "source": [
    "Расчет показывает, что в тестовой группе увеличились ARPU и ARPPU. Проведем статистический тест для оценки статистической значимости этих различий.  \n",
    "  \n",
    "По графику видно, что распределения в обоих группах не нормальные, поэтому не станем применять критерий Стьюдента. Критерий Манна-Уитни не будем применять из-за сложной интерспретируемости для бизнеса. В этом случае для статистического анализа подойдет бутстреп: сравним разницы средних в выручке среди активных пользователей (ARPU) и медиан - среди платящих пользователей (ARPPU).   \n",
    "\n",
    "**Н0** - значения в тестовой и контрольной группах не различаются, **Н1** - значения в тестовой и контрольной группах статистически значимо различаются."
   ]
  },
  {
   "cell_type": "code",
   "execution_count": 22,
   "metadata": {},
   "outputs": [
    {
     "data": {
      "text/plain": [
       "BootstrapResult(confidence_interval=ConfidenceInterval(low=-24.810781189013642, high=8.313444837643306), bootstrap_distribution=array([-13.93732699, -14.86105808, -30.18906427, ..., -27.25907247,\n",
       "        -5.90471115, -13.63976376]), standard_error=8.261985566380472)"
      ]
     },
     "execution_count": 22,
     "metadata": {},
     "output_type": "execute_result"
    }
   ],
   "source": [
    "ss.bootstrap([groups_active.query('grp == \"A\"').rev, \n",
    "             groups_active.query('grp == \"B\"').rev], \n",
    "             statistic=lambda x, y: np.mean(x) - np.mean(y))"
   ]
  },
  {
   "cell_type": "markdown",
   "metadata": {},
   "source": [
    "Анализ показал отсутствие значимых различий в ARPU в тестовой и контрольной группах (значение 0 входит в доверительный интервал, мы не можем отклонить нулевую гипотезу о том, что средние в тестовой и контрольной группах значимо не различаются). ***Внедрение новой механики оплаты не оказало существенного воздействия на ARPU***"
   ]
  },
  {
   "cell_type": "code",
   "execution_count": 23,
   "metadata": {},
   "outputs": [
    {
     "data": {
      "text/plain": [
       "BootstrapResult(confidence_interval=ConfidenceInterval(low=-1315.0, high=-300.0), bootstrap_distribution=array([-1320. ,  -515.5, -1260. , ...,  -950. ,  -940. ,  -940. ]), standard_error=287.67045696160164)"
      ]
     },
     "execution_count": 23,
     "metadata": {},
     "output_type": "execute_result"
    }
   ],
   "source": [
    "ss.bootstrap([groups_active.query('grp == \"A\" and purchases == \"purchase\"').rev, \n",
    "             groups_active.query('grp == \"B\" and purchases == \"purchase\"').rev], \n",
    "             statistic=lambda x, y: np.median(x) - np.median(y))"
   ]
  },
  {
   "cell_type": "markdown",
   "metadata": {},
   "source": [
    "Бутстреп-анализ показывает наличие значимых различий в ARPPU в тестовой и контрольной группах (0 не входит в доверительный интервал, поэтому мы отклоняем нулевую гипотезу о том, что значимых различий нет). ***Внедрение новой механики оплаты оказывает влияние на ARPPU в тестовой группе.***"
   ]
  },
  {
   "cell_type": "markdown",
   "metadata": {},
   "source": [
    "__В ходе эксперимента мы наблюдаем значительный, статистически значимый рост ARPPU в тестовой группе, что говорит о том, что запуск новой механики оплаты был бы выгоден для нас.__ Однако, для того, чтобы быть более уверенной в этом выводе, я бы обсудила с командой сам подход к проведению эксперимента (система сплитования делить пользователей не в равной пропорции, в данных наблюдается выброс - необходимо понять, вызван ли он особенностями эксперимента или это внешнее влияние)  \n",
    "  \n",
    "__Статистически значимых различий конверсии в покупку и ARPU  в тестовой и контрольной группах выявлено не было__ - внедрение новой механики оплаты не оказало на эти метрики значимого влияния"
   ]
  },
  {
   "cell_type": "markdown",
   "metadata": {},
   "source": [
    "## Задача: автоматическое внесение данных о разбивке пользователей на группы из дополнительного файла\n",
    "Нам прислали дополнительный файл с информацией о разбиении пользователей на группы. Добавим информацию об эих пользователях в наш сводный файл и повторим расчет метрик.   \n",
    "Зададим функцию, которая будет автоматически подгружать информацию из дополнительного файла groups_add.csv и на основании дополнительных параметров пересчитывать метрики."
   ]
  },
  {
   "cell_type": "code",
   "execution_count": 24,
   "metadata": {},
   "outputs": [],
   "source": [
    "def update(groups, active_students, checks):\n",
    "    public_key_groups_add = 'https://disk.yandex.ru/d/5Kxrz02m3IBUwQ' #загружаем файл с яндекс диска\n",
    "    base_url = 'https://cloud-api.yandex.net/v1/disk/public/resources/download?'\n",
    "    final_url_groups_add = base_url + urlencode(dict(public_key=public_key_groups_add))\n",
    "    response_groups_add = requests.get(final_url_groups_add)\n",
    "    download_url_groups_add = json.loads(response_groups_add.text)['href']\n",
    "    groups_add = pd.read_csv(download_url_groups_add, sep=',') #открываем файл csv\n",
    "    groups_all = pd.concat([groups_add, groups]) #объединяем файлы с информацией о группах\n",
    "    df = groups_all.merge(active_students, how='inner', left_on = 'id', right_on = 'student_id')\\\n",
    "                    .merge(checks, how='left',on = 'student_id').drop('id', axis=1) #объедимяем с информацией об активности и оплатах\n",
    "    df['purchases'] = df.rev.apply(lambda x: 'no_purchase' if pd.isna(x) else 'purchase')\n",
    "    df = df.fillna(0)\n",
    "    conversion = pd.crosstab(df.grp, df.purchases)\n",
    "    cr = pd.DataFrame(conversion['purchase']/(conversion['purchase']+conversion['no_purchase'])).reset_index() \\\n",
    "        .rename(columns={0: 'CR'})\n",
    "    arppu = pd.DataFrame({'grp': ['A', 'B'],\n",
    "                          'ARPPU': [\n",
    "                              df.query('grp == \"A\" and purchases == \"purchase\"').rev.mean(),\n",
    "                              df.query('grp == \"B\" and purchases == \"purchase\"').rev.mean()]}) #ARPPU\n",
    "    arpu = pd.DataFrame({'grp': ['A', 'B'],\n",
    "                          'ARPU': [\n",
    "                              df.query('grp == \"A\"').rev.mean(),\n",
    "                              df.query('grp == \"B\"').rev.mean()]}) #ARPU\n",
    "    return {'CR': cr,\n",
    "            'arppu': arppu,\n",
    "            'arpu': arpu}"
   ]
  },
  {
   "cell_type": "code",
   "execution_count": 25,
   "metadata": {},
   "outputs": [],
   "source": [
    "update_info = update(groups, active_st, checks) #обновленные значения метрик"
   ]
  },
  {
   "cell_type": "code",
   "execution_count": 26,
   "metadata": {},
   "outputs": [
    {
     "data": {
      "text/html": [
       "<div>\n",
       "<style scoped>\n",
       "    .dataframe tbody tr th:only-of-type {\n",
       "        vertical-align: middle;\n",
       "    }\n",
       "\n",
       "    .dataframe tbody tr th {\n",
       "        vertical-align: top;\n",
       "    }\n",
       "\n",
       "    .dataframe thead th {\n",
       "        text-align: right;\n",
       "    }\n",
       "</style>\n",
       "<table border=\"1\" class=\"dataframe\">\n",
       "  <thead>\n",
       "    <tr style=\"text-align: right;\">\n",
       "      <th></th>\n",
       "      <th>grp</th>\n",
       "      <th>CR</th>\n",
       "    </tr>\n",
       "  </thead>\n",
       "  <tbody>\n",
       "    <tr>\n",
       "      <th>0</th>\n",
       "      <td>A</td>\n",
       "      <td>0.050715</td>\n",
       "    </tr>\n",
       "    <tr>\n",
       "      <th>1</th>\n",
       "      <td>B</td>\n",
       "      <td>0.046156</td>\n",
       "    </tr>\n",
       "  </tbody>\n",
       "</table>\n",
       "</div>"
      ],
      "text/plain": [
       "  grp        CR\n",
       "0   A  0.050715\n",
       "1   B  0.046156"
      ]
     },
     "execution_count": 26,
     "metadata": {},
     "output_type": "execute_result"
    }
   ],
   "source": [
    "update_info['CR'] #пример пересчета метрик: конверсия по группам после обновления информации составе групп"
   ]
  },
  {
   "cell_type": "markdown",
   "metadata": {},
   "source": [
    "## Визуализация метрик\n",
    "Зададим функцию для визуализации метрик, рассматриваемых в ходе исследования."
   ]
  },
  {
   "cell_type": "code",
   "execution_count": 27,
   "metadata": {},
   "outputs": [],
   "source": [
    "def graf(update_info):    \n",
    "    plt.figure(figsize=(20, 9))\n",
    "    plt.subplot(1, 3, 1)\n",
    "    bar = sns.barplot(x='grp', y='ARPPU', data=update_info['arppu'])\n",
    "    bar.axes.set_title('ARPPU') \n",
    "    plt.subplot(1, 3, 2)\n",
    "    bar = sns.barplot(x='grp', y='ARPU', data=update_info['arpu'])\n",
    "    bar.axes.set_title('ARPU')\n",
    "    plt.subplot(1, 3, 3)\n",
    "    bar = sns.barplot(x='grp', y='CR', data=update_info['CR'])\n",
    "    bar.axes.set_title('CR')"
   ]
  },
  {
   "cell_type": "code",
   "execution_count": 28,
   "metadata": {},
   "outputs": [
    {
     "data": {
      "image/png": "[encoded data removed]",
      "text/plain": [
       "<Figure size 2000x900 with 3 Axes>"
      ]
     },
     "metadata": {},
     "output_type": "display_data"
    }
   ],
   "source": [
    "graf(update_info)"
   ]
  }
 ],
 "metadata": {
  "kernelspec": {
   "display_name": "Python 3 (ipykernel)",
   "language": "python",
   "name": "python3"
  },
  "language_info": {
   "codemirror_mode": {
    "name": "ipython",
    "version": 3
   },
   "file_extension": ".py",
   "mimetype": "text/x-python",
   "name": "python",
   "nbconvert_exporter": "python",
   "pygments_lexer": "ipython3",
   "version": "3.10.9"
  }
 },
 "nbformat": 4,
 "nbformat_minor": 4
}
